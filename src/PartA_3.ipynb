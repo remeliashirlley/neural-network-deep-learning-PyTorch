{
 "cells": [
  {
   "cell_type": "markdown",
   "id": "c5cb62ac-8e88-43e6-bce9-da20fabf38ff",
   "metadata": {
    "deletable": false,
    "editable": false,
    "id": "c5cb62ac-8e88-43e6-bce9-da20fabf38ff",
    "nbgrader": {
     "cell_type": "markdown",
     "checksum": "7e726e0bc51bda6101498fa65e298d55",
     "grade": false,
     "grade_id": "cell-a5df181492bc4d5b",
     "locked": true,
     "schema_version": 3,
     "solution": false,
     "task": false
    }
   },
   "source": [
    "# Question A3"
   ]
  },
  {
   "cell_type": "markdown",
   "id": "5c8f824c",
   "metadata": {
    "deletable": false,
    "editable": false,
    "id": "5c8f824c",
    "nbgrader": {
     "cell_type": "markdown",
     "checksum": "8de5fc7baf0dbbe0ae44ff5e2f33d3e2",
     "grade": false,
     "grade_id": "cell-742f6ec36e67f66e",
     "locked": true,
     "schema_version": 3,
     "solution": false,
     "task": false
    }
   },
   "source": [
    "Find the optimal number of hidden neurons for first hidden layer of the 4-layer network (3 hidden layers, output layer) designed in Question 1 and 2"
   ]
  },
  {
   "cell_type": "markdown",
   "id": "fb9411ad-2324-400e-852e-ff5c0ca716f0",
   "metadata": {
    "deletable": false,
    "editable": false,
    "id": "fb9411ad-2324-400e-852e-ff5c0ca716f0",
    "nbgrader": {
     "cell_type": "markdown",
     "checksum": "c699e75b7edb52e94f6605279070c695",
     "grade": false,
     "grade_id": "cell-e96803fd0366edd9",
     "locked": true,
     "schema_version": 3,
     "solution": false,
     "task": false
    },
    "tags": []
   },
   "source": [
    "#### Plot the mean cross-validation accuracies on the final epoch for different numbers of hidden-layer neurons using a scatter plot. Limit the search space of the number of neurons to {64, 128, 256}. Continue using 5-fold cross validation on training dataset. Select the optimal number of neurons for the hidden layer. State the rationale for your selection.\n",
    "\n",
    "This might take a while to run, approximately 20 - 30 min, so plan your time carefully."
   ]
  },
  {
   "cell_type": "markdown",
   "id": "981c85ca-9a14-4d0a-b44d-814f02c0f8e1",
   "metadata": {
    "deletable": false,
    "editable": false,
    "id": "981c85ca-9a14-4d0a-b44d-814f02c0f8e1",
    "nbgrader": {
     "cell_type": "markdown",
     "checksum": "227f476ef461a471ef38af7d3f6715f8",
     "grade": false,
     "grade_id": "cell-808458412f82c806",
     "locked": true,
     "schema_version": 3,
     "solution": false,
     "task": false
    }
   },
   "source": [
    "1. Firstly, we import relevant libraries."
   ]
  },
  {
   "cell_type": "code",
   "execution_count": 24,
   "id": "b0edc610-21e6-4cc7-9603-59318b961990",
   "metadata": {
    "deletable": false,
    "editable": false,
    "id": "b0edc610-21e6-4cc7-9603-59318b961990",
    "nbgrader": {
     "cell_type": "code",
     "checksum": "04b3385379104c8466a67ea59116fe58",
     "grade": false,
     "grade_id": "cell-03d073049be6df79",
     "locked": true,
     "schema_version": 3,
     "solution": false,
     "task": false
    },
    "tags": []
   },
   "outputs": [],
   "source": [
    "import tqdm\n",
    "import time\n",
    "import random\n",
    "import numpy as np\n",
    "import pandas as pd\n",
    "import matplotlib.pyplot as plt\n",
    "\n",
    "import torch\n",
    "from torch import nn\n",
    "from torch.utils.data import Dataset\n",
    "from torch.utils.data import DataLoader\n",
    "\n",
    "from scipy.io import wavfile as wav\n",
    "\n",
    "from sklearn import preprocessing\n",
    "from sklearn.model_selection import KFold\n",
    "from sklearn.model_selection import train_test_split\n",
    "from sklearn.metrics import f1_score, precision_score, recall_score, confusion_matrix\n",
    "from common_utils import set_seed\n",
    "\n",
    "# setting seed\n",
    "set_seed()"
   ]
  },
  {
   "cell_type": "markdown",
   "id": "e8e12861-4713-4914-9f4b-8a7381708243",
   "metadata": {
    "deletable": false,
    "editable": false,
    "id": "e8e12861-4713-4914-9f4b-8a7381708243",
    "nbgrader": {
     "cell_type": "markdown",
     "checksum": "1203c0efa2d363ccc72779a7511ed5b5",
     "grade": false,
     "grade_id": "cell-647b74152d4edf45",
     "locked": true,
     "schema_version": 3,
     "solution": false,
     "task": false
    }
   },
   "source": [
    "2. To reduce repeated code, place your\n",
    "\n",
    "- network (MLP defined in QA1)\n",
    "- torch datasets (CustomDataset defined in QA1)\n",
    "- loss function (loss_fn defined in QA1)\n",
    "\n",
    "in a separate file called **common_utils.py**\n",
    "\n",
    "Import them into this file. You will not be repenalised for any error in QA1 here as the code in QA1 will not be remarked.\n",
    "\n",
    "The following code cell will not be marked."
   ]
  },
  {
   "cell_type": "code",
   "execution_count": 25,
   "id": "37a1a982-de85-46de-b890-3b81f79f5887",
   "metadata": {
    "deletable": false,
    "id": "37a1a982-de85-46de-b890-3b81f79f5887",
    "nbgrader": {
     "cell_type": "code",
     "checksum": "52ed938922eb6062a33a7d047d8fc605",
     "grade": false,
     "grade_id": "import",
     "locked": false,
     "schema_version": 3,
     "solution": true,
     "task": false
    },
    "tags": []
   },
   "outputs": [],
   "source": [
    "# YOUR CODE HERE\n",
    "from common_utils import *\n",
    "\n",
    "def preprocess(df):\n",
    "    # YOUR CODE HERE\n",
    "    df.drop(columns=['filename'],inplace=True)\n",
    "    X_train, y_train, X_test, y_test=split_dataset(df,columns_to_drop=['label'],test_size=0.3,random_state=42)\n",
    "    #X_train_scaled,X_test_scaled=preprocess_dataset(X_train,X_test)\n",
    "    return X_train, y_train, X_test, y_test\n",
    "\n",
    "df = pd.read_csv('simplified.csv')\n",
    "df['label'] = df['filename'].str.split('_').str[-2]\n",
    "\n",
    "X_train, y_train, X_test, y_test = preprocess(df)\n",
    "\n",
    "def intialise_loaders(X_train_scaled, y_train, X_test_scaled, y_test, batch_size):\n",
    "    # YOUR CODE HERE\n",
    "    train_dataloader=DataLoader(CustomDataset(X_train_scaled,y_train),batch_size=batch_size,shuffle=True)\n",
    "    test_dataloader=DataLoader(CustomDataset(X_test_scaled,y_test),batch_size=batch_size,shuffle=True)\n",
    "    return train_dataloader, test_dataloader"
   ]
  },
  {
   "cell_type": "markdown",
   "id": "558aa470-6d7e-454c-9cda-9ad881d58c53",
   "metadata": {
    "deletable": false,
    "editable": false,
    "id": "558aa470-6d7e-454c-9cda-9ad881d58c53",
    "nbgrader": {
     "cell_type": "markdown",
     "checksum": "79004bd568c9f48abd1cf359cd050ab5",
     "grade": false,
     "grade_id": "cell-10b7165b0a25758f",
     "locked": true,
     "schema_version": 3,
     "solution": false,
     "task": false
    }
   },
   "source": [
    "3. Perform hyperparameter tuning for the different neurons with 5-fold cross validation."
   ]
  },
  {
   "cell_type": "code",
   "execution_count": 26,
   "id": "8c77bd18-c546-473e-8c2f-643b4281d9ba",
   "metadata": {
    "deletable": false,
    "id": "8c77bd18-c546-473e-8c2f-643b4281d9ba",
    "nbgrader": {
     "cell_type": "code",
     "checksum": "c610a779f6858f6c77f3fc6beb198dcd",
     "grade": true,
     "grade_id": "train",
     "locked": false,
     "points": 2,
     "schema_version": 3,
     "solution": true,
     "task": false
    },
    "tags": []
   },
   "outputs": [],
   "source": [
    "def train(model, X_train_scaled, y_train2, X_val_scaled, y_val2, batch_size):\n",
    "\n",
    "    # YOUR CODE HERE\n",
    "    train_dataloader, test_dataloader = intialise_loaders(X_train_scaled, y_train2, X_val_scaled, y_val2, batch_size)\n",
    "    optimizer=torch.optim.Adam(model.parameters(),lr=0.001)\n",
    "\n",
    "    early_stopper=EarlyStopper()\n",
    "    n_epochs=100\n",
    "\n",
    "    train_accuracies=[]\n",
    "    train_losses=[]\n",
    "    test_accuracies=[] \n",
    "    test_losses=[]\n",
    "    times=[]\n",
    "    \n",
    "    for epoch in range(n_epochs):\n",
    "        start=time.time()\n",
    "        overall_train_accuracy=0\n",
    "        overall_train_loss=0\n",
    "\n",
    "        model.train()\n",
    "        for i,(x,y) in enumerate(train_dataloader):\n",
    "            #forward pass\n",
    "            pred=model(x)\n",
    "            loss=loss_fn(pred.squeeze(),y)\n",
    "\n",
    "            #backward pass and optimise\n",
    "            optimizer.zero_grad()\n",
    "            loss.backward()\n",
    "            optimizer.step()\n",
    "\n",
    "            overall_train_loss+=loss.detach()\n",
    "            overall_train_accuracy+=(pred.round().squeeze()==y).float().mean()\n",
    "\n",
    "        train_accuracies.append(overall_train_accuracy/len(train_dataloader))\n",
    "        train_losses.append(overall_train_loss/len(train_dataloader))\n",
    "\n",
    "        model.eval()\n",
    "        with torch.no_grad():\n",
    "            #Test eval\n",
    "            overall_test_loss=0\n",
    "            overall_test_accuracy=0\n",
    "            for x,y in test_dataloader:\n",
    "                test_pred=model(x)\n",
    "                overall_test_accuracy+=(test_pred.round().squeeze()==y).float().mean()\n",
    "                overall_test_loss+=loss_fn(test_pred.squeeze(),y)\n",
    "\n",
    "        test_accuracies.append(overall_test_accuracy/len(test_dataloader))\n",
    "        test_losses.append(overall_test_loss/len(test_dataloader))\n",
    "\n",
    "        if early_stopper.early_stop(overall_test_loss/len(test_dataloader)):\n",
    "            times.append(time.time()-start)\n",
    "            break\n",
    "        if epoch==n_epochs-1:\n",
    "            times.append(time.time()-start)\n",
    "    \n",
    "    torch.save(model.state_dict(),'model.pth')\n",
    "\n",
    "    return train_accuracies, train_losses, test_accuracies, test_losses, times"
   ]
  },
  {
   "cell_type": "code",
   "execution_count": 27,
   "id": "d13d1ff1-7242-4c3f-bcf2-c92fe0c723db",
   "metadata": {
    "deletable": false,
    "id": "d13d1ff1-7242-4c3f-bcf2-c92fe0c723db",
    "nbgrader": {
     "cell_type": "code",
     "checksum": "ec4e70e2dfdc84af8c83bc858117af1f",
     "grade": true,
     "grade_id": "hyperparameter_tuning",
     "locked": false,
     "points": 2,
     "schema_version": 3,
     "solution": true,
     "task": false
    },
    "tags": []
   },
   "outputs": [],
   "source": [
    "def find_optimal_hyperparameter(X, y, parameters, mode, batch_size):\n",
    "\n",
    "    # YOUR CODE HERE\n",
    "    cross_validation_accuracies={}\n",
    "    cross_validation_times={}\n",
    "\n",
    "    for neuron_no in parameters:\n",
    "        model=MLP(len(df.columns)-1,[neuron_no,128,128],1)\n",
    "        no_folds=5\n",
    "        overall_time=0\n",
    "        val_accuracy=0\n",
    "        kf=KFold(n_splits=5,shuffle=True,random_state=42)\n",
    "        for train_index,val_index in kf.split(X):\n",
    "            X_train=X.iloc[train_index]\n",
    "            X_val=X.iloc[val_index]\n",
    "            y_train=y[train_index]\n",
    "            y_val=y[val_index]\n",
    "\n",
    "            X_train_scaled,X_val_scaled=preprocess_dataset(X_train,X_val)\n",
    "            train_accuracies, train_losses, test_accuracies, test_losses, times=train(model, X_train_scaled, y_train, X_val_scaled, y_val, batch_size)\n",
    "            \n",
    "            val_accuracy+=test_accuracies[-1]\n",
    "            overall_time+=times[-1]\n",
    "            \n",
    "        cross_validation_accuracies[neuron_no]=val_accuracy/no_folds\n",
    "        cross_validation_times[neuron_no]=overall_time/no_folds\n",
    "\n",
    "    return cross_validation_accuracies, cross_validation_times\n",
    "\n",
    "'''\n",
    "optimal_bs = 0. Fill your optimal batch size in the following code.\n",
    "'''\n",
    "# YOUR CODE HERE\n",
    "num_neurons = [64,128,256]\n",
    "cross_validation_accuracies, cross_validation_times = find_optimal_hyperparameter(X_train, y_train, num_neurons, 'num_neurons', 512)"
   ]
  },
  {
   "cell_type": "markdown",
   "id": "b6756ab6-92e0-4a5e-b4b9-aebe009f5480",
   "metadata": {
    "deletable": false,
    "editable": false,
    "id": "b6756ab6-92e0-4a5e-b4b9-aebe009f5480",
    "nbgrader": {
     "cell_type": "markdown",
     "checksum": "0de56ab3a8b732e3ada17c55bc90a3cf",
     "grade": false,
     "grade_id": "cell-d0eceff23b1291e2",
     "locked": true,
     "schema_version": 3,
     "solution": false,
     "task": false
    }
   },
   "source": [
    "4. Plot the cross-validation accuracies against the number of epochs for different numbers of hidden-layer neurons. Limit the search space of the number of neurons to {64, 128, 256}."
   ]
  },
  {
   "cell_type": "code",
   "execution_count": 28,
   "id": "8fa3afdf-eed6-47b9-9acc-bc2304c46ec3",
   "metadata": {
    "deletable": false,
    "id": "8fa3afdf-eed6-47b9-9acc-bc2304c46ec3",
    "nbgrader": {
     "cell_type": "code",
     "checksum": "25582e96a2b85a5ce6e0cf48a58064bd",
     "grade": true,
     "grade_id": "cell-plot",
     "locked": false,
     "points": 2,
     "schema_version": 3,
     "solution": true,
     "task": false
    },
    "tags": []
   },
   "outputs": [
    {
     "data": {
      "text/plain": [
       "Text(0.5, 1.0, 'Cross-Validation accuracy against No of Neurons')"
      ]
     },
     "execution_count": 28,
     "metadata": {},
     "output_type": "execute_result"
    },
    {
     "data": {
      "image/png": "[encoded data removed]",
      "text/plain": [
       "<Figure size 640x480 with 1 Axes>"
      ]
     },
     "metadata": {},
     "output_type": "display_data"
    }
   ],
   "source": [
    "# YOUR CODE HERE\n",
    "plt.scatter(cross_validation_accuracies.keys(),cross_validation_accuracies.values())\n",
    "plt.xlabel(\"No of Neurons\")\n",
    "plt.ylabel(\"Validation Accuracy\")\n",
    "plt.title(\"Cross-Validation accuracy against No of Neurons\")"
   ]
  },
  {
   "cell_type": "markdown",
   "id": "baab6e4d-4e8b-4358-a68d-682f60db4a06",
   "metadata": {
    "deletable": false,
    "editable": false,
    "id": "baab6e4d-4e8b-4358-a68d-682f60db4a06",
    "nbgrader": {
     "cell_type": "markdown",
     "checksum": "2024917155ea0cc8755c69415b4956cf",
     "grade": false,
     "grade_id": "part-1-3",
     "locked": true,
     "schema_version": 3,
     "solution": false,
     "task": false
    }
   },
   "source": [
    "5. Select the optimal number of neurons for the hidden layer. State the rationale for your selection."
   ]
  },
  {
   "cell_type": "code",
   "execution_count": 29,
   "id": "3e45a22d-9f20-441b-986b-dca35083abc3",
   "metadata": {
    "deletable": false,
    "id": "3e45a22d-9f20-441b-986b-dca35083abc3",
    "nbgrader": {
     "cell_type": "code",
     "checksum": "a8f1233c3ecacc38527a60e87185938b",
     "grade": false,
     "grade_id": "reason",
     "locked": false,
     "schema_version": 3,
     "solution": true,
     "task": false
    }
   },
   "outputs": [],
   "source": [
    "optimal_neurons = 256\n",
    "reason = \"It has the highest average validation accuracy for all folds.\"\n",
    "# YOUR CODE HERE\n",
    "\n",
    "X_train_scaled,X_test_scaled=preprocess_dataset(X_train,X_test)\n",
    "model=MLP(len(df.columns)-1,[optimal_neurons,128,128],1)\n",
    "batch_size=512\n",
    "train_accuracies, train_losses, test_accuracies, test_losses, times=train(model, X_train_scaled, y_train, X_test_scaled, y_test, batch_size)"
   ]
  },
  {
   "cell_type": "markdown",
   "id": "ebf2dc5e-91d5-49dc-a05f-b9318f3371a7",
   "metadata": {
    "deletable": false,
    "editable": false,
    "id": "ebf2dc5e-91d5-49dc-a05f-b9318f3371a7",
    "nbgrader": {
     "cell_type": "markdown",
     "checksum": "4c609ceb4ecc2dac0684b1da17f44daa",
     "grade": false,
     "grade_id": "cell-302503e166f647c9",
     "locked": true,
     "schema_version": 3,
     "solution": false,
     "task": false
    }
   },
   "source": [
    "6. Plot the train and test accuracies against training epochs with the optimal number of neurons using a line plot."
   ]
  },
  {
   "cell_type": "code",
   "execution_count": 30,
   "id": "081aa567-cd92-4749-93fd-fc6608a1f6ae",
   "metadata": {
    "deletable": false,
    "id": "081aa567-cd92-4749-93fd-fc6608a1f6ae",
    "nbgrader": {
     "cell_type": "code",
     "checksum": "2776dd57325ada98de4534313e894572",
     "grade": true,
     "grade_id": "figure",
     "locked": false,
     "points": 2,
     "schema_version": 3,
     "solution": true,
     "task": false
    },
    "tags": []
   },
   "outputs": [
    {
     "data": {
      "text/plain": [
       "Text(0.5, 0, 'epoch')"
      ]
     },
     "execution_count": 30,
     "metadata": {},
     "output_type": "execute_result"
    },
    {
     "data": {
      "image/png": "[encoded data removed]",
      "text/plain": [
       "<Figure size 640x480 with 1 Axes>"
      ]
     },
     "metadata": {},
     "output_type": "display_data"
    }
   ],
   "source": [
    "# YOUR CODE HERE\n",
    "epochs=np.arange(1,len(train_accuracies)+1,1)\n",
    "\n",
    "plt.figure()\n",
    "plt.plot(epochs,train_accuracies,label='Train Accuracy')\n",
    "plt.plot(epochs,test_accuracies,label='Test Accuracy')\n",
    "plt.plot(epochs,train_losses,label='Train Loss')\n",
    "plt.plot(epochs,test_losses,label='Test Loss')\n",
    "plt.title('Train/Test Accuracy/Loss against Epochs')\n",
    "plt.legend()\n",
    "plt.xlabel('epoch')"
   ]
  }
 ],
 "metadata": {
  "colab": {
   "provenance": []
  },
  "kernelspec": {
   "display_name": "Python 3 (ipykernel)",
   "language": "python",
   "name": "python3"
  },
  "language_info": {
   "codemirror_mode": {
    "name": "ipython",
    "version": 3
   },
   "file_extension": ".py",
   "mimetype": "text/x-python",
   "name": "python",
   "nbconvert_exporter": "python",
   "pygments_lexer": "ipython3",
   "version": "3.11.5"
  }
 },
 "nbformat": 4,
 "nbformat_minor": 5
}
